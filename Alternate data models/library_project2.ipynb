{
 "nbformat": 4,
 "nbformat_minor": 2,
 "metadata": {
  "language_info": {
   "name": "python",
   "codemirror_mode": {
    "name": "ipython",
    "version": 3
   },
   "version": "3.7.6-final"
  },
  "orig_nbformat": 2,
  "file_extension": ".py",
  "mimetype": "text/x-python",
  "name": "python",
  "npconvert_exporter": "python",
  "pygments_lexer": "ipython3",
  "version": 3,
  "kernelspec": {
   "name": "python3",
   "display_name": "Python 3"
  }
 },
 "cells": [
  {
   "cell_type": "markdown",
   "metadata": {},
   "source": [
    "## Project 2: Libraries and Social Media\n",
    "\n",
    "This project uses the MongoDB library database as a base to create an additional social media capability."
   ]
  },
  {
   "cell_type": "markdown",
   "metadata": {},
   "source": [
    "### Step 1: Initialization\n",
    "\n",
    "Let's import the packages required first before accessing the library database. \n",
    "\n",
    "<i> A reminder on the design of the library database </i>\n",
    "\n",
    "The namespace is called 'library' and contains two collections - one of users, one of the books in the library.\n",
    "\n",
    "- In the users collections, include name, phone, address and uni affiliation\n",
    "- In the books collection, include title, primary and secondary author, publisher date, \n",
    "number of pages, the publisher, translator, topic. \n",
    "- For books that have been checked out, include a checked flag along with\n",
    "additional information on: checked date, user who checked the book,\n",
    "including their university affiliation."
   ]
  },
  {
   "cell_type": "code",
   "execution_count": 1,
   "metadata": {},
   "outputs": [],
   "source": [
    "import json\n",
    "from pymongo import MongoClient"
   ]
  },
  {
   "cell_type": "code",
   "execution_count": 2,
   "metadata": {},
   "outputs": [
    {
     "output_type": "execute_result",
     "data": {
      "text/plain": "MongoClient(host=['localhost:27017'], document_class=dict, tz_aware=False, connect=True)"
     },
     "metadata": {},
     "execution_count": 2
    }
   ],
   "source": [
    "client = MongoClient()\n",
    "client\n",
    "db = client.library"
   ]
  },
  {
   "cell_type": "code",
   "execution_count": 6,
   "metadata": {},
   "outputs": [
    {
     "output_type": "stream",
     "name": "stderr",
     "text": "C:\\Anaconda\\lib\\site-packages\\ipykernel_launcher.py:1: DeprecationWarning: collection_names is deprecated. Use list_collection_names instead.\n  \"\"\"Entry point for launching an IPython kernel.\n"
    },
    {
     "output_type": "execute_result",
     "data": {
      "text/plain": "['books', 'users']"
     },
     "metadata": {},
     "execution_count": 6
    }
   ],
   "source": [
    "db.collection_names()"
   ]
  }
 ]
}