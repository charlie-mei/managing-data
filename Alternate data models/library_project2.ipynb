{
 "cells": [
  {
   "cell_type": "markdown",
   "metadata": {},
   "source": [
    "## Project 2: Libraries and Social Media\n",
    "\n",
    "This project uses the MongoDB library database as a base to create an additional social media capability."
   ]
  },
  {
   "cell_type": "markdown",
   "metadata": {},
   "source": [
    "### Database Design\n",
    "\n",
    "The namespace is called 'library' and contains two collections - one of users, one of the books in the library.\n",
    "\n",
    "The users collection includes:\n",
    "\n",
    "- name\n",
    "- phone\n",
    "- address\n",
    "- uni affiliation.\n",
    "\n",
    "The books collection includes:\n",
    "- book title\n",
    "- primary and secondary author\n",
    "- publisher date\n",
    "- number of pages\n",
    "- the publisher\n",
    "- translator \n",
    "- topic \n",
    "\n",
    "For books that have been checked out, include a checked flag along with additional information on: checked date, user who checked the book, including their university affiliation.\n",
    "\n",
    "For books with comments, there are also information containing the comments the borrower has posted about the book."
   ]
  },
  {
   "cell_type": "code",
   "execution_count": 102,
   "metadata": {},
   "outputs": [],
   "source": [
    "import json\n",
    "from pymongo import MongoClient"
   ]
  },
  {
   "cell_type": "code",
   "execution_count": 104,
   "metadata": {},
   "outputs": [
    {
     "output_type": "stream",
     "name": "stdout",
     "text": "MongoClient(host=['localhost:27017'], document_class=dict, tz_aware=False, connect=True)\n"
    }
   ],
   "source": [
    "client = MongoClient()\n",
    "print(client)\n",
    "db = client.library"
   ]
  },
  {
   "cell_type": "markdown",
   "metadata": {},
   "source": [
    "## Query 1\n",
    "\n",
    "Which books have been checked out since such and such date?"
   ]
  },
  {
   "cell_type": "code",
   "execution_count": 119,
   "metadata": {},
   "outputs": [
    {
     "output_type": "stream",
     "name": "stdout",
     "text": "{'_id': ObjectId('5ea39e3ffebbdbf5a7150b84'), 'name': 'Introduction to Machine Learning', 'checkdate': '2020-01-01', 'borrower': 'Adam Apple'}\n{'_id': ObjectId('5ea39f06febbdbf5a7150b85'), 'name': 'Intermediate Machine Learning', 'checkdate': '2020-01-01', 'borrower': 'Adam Apple'}\n"
    }
   ],
   "source": [
    "books = db.books.find(\n",
    "    {'checked': \"Yes\", 'checkdate': { '$gte': \"2018-01-01\" }, 'checkdate': { '$lte': \"2020-02-01\" }}, \n",
    "    {'borrower': 1, 'name': 1, 'checkdate': 1})\n",
    "\n",
    "for book in books:\n",
    "    print(book)"
   ]
  },
  {
   "cell_type": "markdown",
   "metadata": {},
   "source": [
    "## Query 2\n",
    "\n",
    "Which users have check out such and such book?"
   ]
  },
  {
   "cell_type": "code",
   "execution_count": 121,
   "metadata": {},
   "outputs": [
    {
     "output_type": "stream",
     "name": "stdout",
     "text": "{'_id': ObjectId('5ea39e3ffebbdbf5a7150b84'), 'name': 'Introduction to Machine Learning', 'borrower': 'Adam Apple'}\n{'_id': ObjectId('5ea39f06febbdbf5a7150b85'), 'name': 'Intermediate Machine Learning', 'borrower': 'Adam Apple'}\n{'_id': ObjectId('5ea39f40febbdbf5a7150b87'), 'name': 'Midsummer Murders', 'borrower': 'Dennis Donuts'}\n"
    }
   ],
   "source": [
    "books = db.books.find(\n",
    "    {'checked': \"Yes\"},\n",
    "    {'borrower': 1, 'name': 1}\n",
    ")\n",
    "for book in books:\n",
    "    print(book)"
   ]
  },
  {
   "cell_type": "markdown",
   "metadata": {},
   "source": [
    "## Query 3\n",
    "\n",
    "How many books does the library have on such and such topic?"
   ]
  },
  {
   "cell_type": "code",
   "execution_count": 124,
   "metadata": {},
   "outputs": [
    {
     "output_type": "stream",
     "name": "stdout",
     "text": "{'_id': 'Fiction', 'count': 1}\n{'_id': 'Machine Learning', 'count': 3}\n{'_id': 'Psychology', 'count': 1}\n"
    }
   ],
   "source": [
    "books = db.books.aggregate([\n",
    "    {\n",
    "        '$bucket': {\n",
    "            'groupBy': \"$topic\",\n",
    "            'boundaries': [\"Fiction\", \"Machine Learning\", \"Psychology\", \"Upper bound placeholder\"],\n",
    "            'default': \"All others\",\n",
    "            'output': {'count': {'$sum': 1}}\n",
    "        }\n",
    "    }\n",
    "])\n",
    "\n",
    "for book in books:\n",
    "    print(book)"
   ]
  },
  {
   "cell_type": "markdown",
   "metadata": {},
   "source": [
    "## Query 4\n",
    "\n",
    "Which users from Columbia University have checked out books on Machine Learning between this date and that date?"
   ]
  },
  {
   "cell_type": "code",
   "execution_count": 125,
   "metadata": {},
   "outputs": [
    {
     "output_type": "stream",
     "name": "stdout",
     "text": "{'_id': ObjectId('5ea39e3ffebbdbf5a7150b84'), 'checkdate': '2020-01-01', 'borrower': 'Adam Apple'}\n{'_id': ObjectId('5ea39f06febbdbf5a7150b85'), 'checkdate': '2020-01-01', 'borrower': 'Adam Apple'}\n"
    }
   ],
   "source": [
    "books = db.books.find(\n",
    "    {'checked': \"Yes\", \n",
    "    'borrower_uni': \"Columbia University\", \n",
    "    'checkdate': { '$gte': \"2018-01-01\" }, \n",
    "    'checkdate': { '$lte': \"2020-02-01\" }},\n",
    "    {'borrower': 1, 'checkdate': 1}\n",
    ")\n",
    "\n",
    "for book in books:\n",
    "    print(book)"
   ]
  },
  {
   "cell_type": "markdown",
   "metadata": {},
   "source": [
    "## Query 5\n",
    "\n",
    "What comments have been made by any User about such and such book between such and such dates, ordered from the most recent to the least recent?"
   ]
  },
  {
   "cell_type": "code",
   "execution_count": 134,
   "metadata": {},
   "outputs": [
    {
     "output_type": "stream",
     "name": "stdout",
     "text": "{'_id': ObjectId('5ea39e3ffebbdbf5a7150b84'), 'checkdate': '2020-01-01', 'borrower': 'Adam Apple', 'comments': ['This is a great book', 'I learnt a lot', 'I recommend!']}\n{'_id': ObjectId('5ea39f06febbdbf5a7150b85'), 'checkdate': '2020-01-01', 'borrower': 'Adam Apple', 'comments': ['This is also a great book', 'I also learnt a lot', 'I defs recommend!']}\n{'_id': ObjectId('5ea39f40febbdbf5a7150b87'), 'checkdate': '2020-03-01', 'borrower': 'Dennis Donuts', 'comments': ['This is an interesting read', 'Great characters', 'I rate 5/5']}\n"
    }
   ],
   "source": [
    "comments = db.books.find(\n",
    "    {'checked': \"Yes\", \n",
    "    'checkdate': { '$gte': \"2018-01-01\" }, \n",
    "    'checkdate': { '$lte': \"2020-04-01\" }},\n",
    "    {'title': 1, 'borrower': 1, 'comments': 1, 'checkdate': 1}\n",
    ").sort('checkdate')\n",
    "\n",
    "for comment in comments:\n",
    "    print(comment)"
   ]
  },
  {
   "cell_type": "markdown",
   "metadata": {},
   "source": [
    "## Query 6\n",
    "\n",
    "Show for a given User, what comments they have made about such and such book."
   ]
  },
  {
   "cell_type": "code",
   "execution_count": 136,
   "metadata": {},
   "outputs": [
    {
     "output_type": "stream",
     "name": "stdout",
     "text": "{'_id': ObjectId('5ea39e3ffebbdbf5a7150b84'), 'borrower': 'Adam Apple', 'comments': ['This is a great book', 'I learnt a lot', 'I recommend!']}\n{'_id': ObjectId('5ea39f06febbdbf5a7150b85'), 'borrower': 'Adam Apple', 'comments': ['This is also a great book', 'I also learnt a lot', 'I defs recommend!']}\n{'_id': ObjectId('5ea39f40febbdbf5a7150b87'), 'borrower': 'Dennis Donuts', 'comments': ['This is an interesting read', 'Great characters', 'I rate 5/5']}\n"
    }
   ],
   "source": [
    "comments = db.books.find({'checked': \"Yes\"}, {'borrower': 1, 'comments': 1})\n",
    "\n",
    "for comment in comments:\n",
    "    print(comment)"
   ]
  }
 ],
 "metadata": {
  "language_info": {
   "name": "python",
   "codemirror_mode": {
    "name": "ipython",
    "version": 3
   },
   "version": "3.7.6-final"
  },
  "orig_nbformat": 2,
  "file_extension": ".py",
  "mimetype": "text/x-python",
  "name": "python",
  "npconvert_exporter": "python",
  "pygments_lexer": "ipython3",
  "version": 3,
  "kernelspec": {
   "name": "python3",
   "display_name": "Python 3"
  }
 },
 "nbformat": 4,
 "nbformat_minor": 2
}